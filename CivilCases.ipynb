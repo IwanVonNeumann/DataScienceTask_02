{
 "cells": [
  {
   "cell_type": "code",
   "execution_count": 1,
   "metadata": {
    "collapsed": true
   },
   "outputs": [],
   "source": [
    "import os\n",
    "import numpy as np\n",
    "import pandas as pd"
   ]
  },
  {
   "cell_type": "code",
   "execution_count": 2,
   "metadata": {
    "collapsed": true
   },
   "outputs": [],
   "source": [
    "pd.set_option('display.width', 250)\n",
    "pd.set_option('display.max_colwidth', 120)"
   ]
  },
  {
   "cell_type": "markdown",
   "metadata": {},
   "source": [
    "### Reading CSV"
   ]
  },
  {
   "cell_type": "code",
   "execution_count": 3,
   "metadata": {
    "collapsed": true
   },
   "outputs": [],
   "source": [
    "data_dir = \"data\"\n",
    "file_name = \"Izskatitas_C1_Kat3_2017_lietas_07.csv\"\n",
    "data_source_path = os.path.join(data_dir, file_name)"
   ]
  },
  {
   "cell_type": "code",
   "execution_count": 4,
   "metadata": {},
   "outputs": [],
   "source": [
    "df = pd.read_csv(data_source_path, parse_dates=[\"Ienākšanas datums\", \"Izskatīšanas datums\"])"
   ]
  },
  {
   "cell_type": "code",
   "execution_count": 5,
   "metadata": {},
   "outputs": [],
   "source": [
    "def make_float(x):\n",
    "    try:\n",
    "        return float(x)\n",
    "    except ValueError:\n",
    "        return np.nan\n",
    "    \n",
    "df[\"Prasījuma apmērs\"] = df.apply(lambda item: make_float(item[\"Prasījuma apmērs\"]), axis=1)\n",
    "\n",
    "df[\"Būtība\"] = df[\"Būtība\"].astype(str)\n",
    "df[\"Tiesas ID (courtID)\"] = df[\"Tiesas ID (courtID)\"].astype(str)"
   ]
  },
  {
   "cell_type": "markdown",
   "metadata": {},
   "source": [
    "### Overall stats"
   ]
  },
  {
   "cell_type": "code",
   "execution_count": 6,
   "metadata": {},
   "outputs": [
    {
     "data": {
      "text/plain": [
       "(16455, 18)"
      ]
     },
     "execution_count": 6,
     "metadata": {},
     "output_type": "execute_result"
    }
   ],
   "source": [
    "df.shape"
   ]
  },
  {
   "cell_type": "code",
   "execution_count": 7,
   "metadata": {},
   "outputs": [
    {
     "data": {
      "text/html": [
       "<div>\n",
       "<style scoped>\n",
       "    .dataframe tbody tr th:only-of-type {\n",
       "        vertical-align: middle;\n",
       "    }\n",
       "\n",
       "    .dataframe tbody tr th {\n",
       "        vertical-align: top;\n",
       "    }\n",
       "\n",
       "    .dataframe thead th {\n",
       "        text-align: right;\n",
       "    }\n",
       "</style>\n",
       "<table border=\"1\" class=\"dataframe\">\n",
       "  <thead>\n",
       "    <tr style=\"text-align: right;\">\n",
       "      <th></th>\n",
       "      <th>Lietas ID (caseID)</th>\n",
       "      <th>Tiesas ID (courtID)</th>\n",
       "      <th>Tiesa</th>\n",
       "      <th>Dzimšanas datums</th>\n",
       "      <th>Ienākšanas kārtība</th>\n",
       "      <th>Ienākšanas datums</th>\n",
       "      <th>Izskatīšanas datums</th>\n",
       "      <th>Būtība</th>\n",
       "      <th>Prasījuma apmērs</th>\n",
       "      <th>atb_fiz</th>\n",
       "      <th>atb_jur</th>\n",
       "      <th>pras_fiz</th>\n",
       "      <th>pras_jur</th>\n",
       "      <th>Nozīmētās sēdes</th>\n",
       "      <th>Notikušās sēdes</th>\n",
       "      <th>naudaS_sods</th>\n",
       "      <th>dzivo_arzemes</th>\n",
       "      <th>atbr_no_nodevas</th>\n",
       "    </tr>\n",
       "  </thead>\n",
       "  <tbody>\n",
       "    <tr>\n",
       "      <th>0</th>\n",
       "      <td>213477</td>\n",
       "      <td>40</td>\n",
       "      <td>Valkas rajona tiesa</td>\n",
       "      <td>60159</td>\n",
       "      <td>Pirmo reizi</td>\n",
       "      <td>2003-06-05</td>\n",
       "      <td>2017-01-23</td>\n",
       "      <td>parāda piedziņa</td>\n",
       "      <td>0.00</td>\n",
       "      <td>0</td>\n",
       "      <td>1</td>\n",
       "      <td>0</td>\n",
       "      <td>1</td>\n",
       "      <td>3</td>\n",
       "      <td>0</td>\n",
       "      <td>0</td>\n",
       "      <td>1</td>\n",
       "      <td>0</td>\n",
       "    </tr>\n",
       "    <tr>\n",
       "      <th>1</th>\n",
       "      <td>448971</td>\n",
       "      <td>32</td>\n",
       "      <td>Rīgas pilsētas Vidzemes priekšpilsētas tiesa</td>\n",
       "      <td>50767</td>\n",
       "      <td>Pirmo reizi</td>\n",
       "      <td>2005-11-29</td>\n",
       "      <td>2017-04-06</td>\n",
       "      <td>zaudējumu piedziņa</td>\n",
       "      <td>0.00</td>\n",
       "      <td>1</td>\n",
       "      <td>0</td>\n",
       "      <td>1</td>\n",
       "      <td>0</td>\n",
       "      <td>9</td>\n",
       "      <td>1</td>\n",
       "      <td>0</td>\n",
       "      <td>0</td>\n",
       "      <td>1</td>\n",
       "    </tr>\n",
       "    <tr>\n",
       "      <th>2</th>\n",
       "      <td>477470</td>\n",
       "      <td>279</td>\n",
       "      <td>Rīgas pilsētas Pārdaugavas tiesa</td>\n",
       "      <td>10551</td>\n",
       "      <td>Sakarā ar tiesu apvienošanu</td>\n",
       "      <td>2017-01-31</td>\n",
       "      <td>2017-10-02</td>\n",
       "      <td>parāda piedziņa</td>\n",
       "      <td>21414.34</td>\n",
       "      <td>2</td>\n",
       "      <td>0</td>\n",
       "      <td>1</td>\n",
       "      <td>0</td>\n",
       "      <td>5</td>\n",
       "      <td>3</td>\n",
       "      <td>0</td>\n",
       "      <td>0</td>\n",
       "      <td>0</td>\n",
       "    </tr>\n",
       "    <tr>\n",
       "      <th>3</th>\n",
       "      <td>575613</td>\n",
       "      <td>27</td>\n",
       "      <td>Liepājas tiesa</td>\n",
       "      <td>30463</td>\n",
       "      <td>Pirmo reizi</td>\n",
       "      <td>2007-06-04</td>\n",
       "      <td>2017-10-26</td>\n",
       "      <td>zaudējumu piedziņa</td>\n",
       "      <td>916.25</td>\n",
       "      <td>6</td>\n",
       "      <td>0</td>\n",
       "      <td>2</td>\n",
       "      <td>0</td>\n",
       "      <td>4</td>\n",
       "      <td>0</td>\n",
       "      <td>0</td>\n",
       "      <td>0</td>\n",
       "      <td>0</td>\n",
       "    </tr>\n",
       "    <tr>\n",
       "      <th>4</th>\n",
       "      <td>580131</td>\n",
       "      <td>32</td>\n",
       "      <td>Rīgas pilsētas Vidzemes priekšpilsētas tiesa</td>\n",
       "      <td>250174</td>\n",
       "      <td>Pēc piekritības no citas tiesas</td>\n",
       "      <td>2015-10-07</td>\n",
       "      <td>2017-11-13</td>\n",
       "      <td>parāda piedziņa</td>\n",
       "      <td>1588192.95</td>\n",
       "      <td>4</td>\n",
       "      <td>0</td>\n",
       "      <td>1</td>\n",
       "      <td>0</td>\n",
       "      <td>8</td>\n",
       "      <td>1</td>\n",
       "      <td>0</td>\n",
       "      <td>0</td>\n",
       "      <td>0</td>\n",
       "    </tr>\n",
       "  </tbody>\n",
       "</table>\n",
       "</div>"
      ],
      "text/plain": [
       "   Lietas ID (caseID) Tiesas ID (courtID)                                         Tiesa  Dzimšanas datums               Ienākšanas kārtība Ienākšanas datums Izskatīšanas datums              Būtība  Prasījuma apmērs  atb_fiz  atb_jur  pras_fiz  \\\n",
       "0              213477                  40                           Valkas rajona tiesa             60159                      Pirmo reizi        2003-06-05          2017-01-23     parāda piedziņa              0.00        0        1         0   \n",
       "1              448971                  32  Rīgas pilsētas Vidzemes priekšpilsētas tiesa             50767                      Pirmo reizi        2005-11-29          2017-04-06  zaudējumu piedziņa              0.00        1        0         1   \n",
       "2              477470                 279              Rīgas pilsētas Pārdaugavas tiesa             10551      Sakarā ar tiesu apvienošanu        2017-01-31          2017-10-02     parāda piedziņa          21414.34        2        0         1   \n",
       "3              575613                  27                                Liepājas tiesa             30463                      Pirmo reizi        2007-06-04          2017-10-26  zaudējumu piedziņa            916.25        6        0         2   \n",
       "4              580131                  32  Rīgas pilsētas Vidzemes priekšpilsētas tiesa            250174  Pēc piekritības no citas tiesas        2015-10-07          2017-11-13     parāda piedziņa        1588192.95        4        0         1   \n",
       "\n",
       "   pras_jur  Nozīmētās sēdes  Notikušās sēdes  naudaS_sods  dzivo_arzemes  atbr_no_nodevas  \n",
       "0         1                3                0            0              1                0  \n",
       "1         0                9                1            0              0                1  \n",
       "2         0                5                3            0              0                0  \n",
       "3         0                4                0            0              0                0  \n",
       "4         0                8                1            0              0                0  "
      ]
     },
     "execution_count": 7,
     "metadata": {},
     "output_type": "execute_result"
    }
   ],
   "source": [
    "df.head()"
   ]
  },
  {
   "cell_type": "code",
   "execution_count": 8,
   "metadata": {},
   "outputs": [
    {
     "data": {
      "text/plain": [
       "Lietas ID (caseID)              int64\n",
       "Tiesas ID (courtID)            object\n",
       "Tiesa                          object\n",
       "Dzimšanas datums                int64\n",
       "Ienākšanas kārtība             object\n",
       "Ienākšanas datums      datetime64[ns]\n",
       "Izskatīšanas datums    datetime64[ns]\n",
       "Būtība                         object\n",
       "Prasījuma apmērs              float64\n",
       "atb_fiz                         int64\n",
       "atb_jur                         int64\n",
       "pras_fiz                        int64\n",
       "pras_jur                        int64\n",
       "Nozīmētās sēdes                 int64\n",
       "Notikušās sēdes                 int64\n",
       "naudaS_sods                     int64\n",
       "dzivo_arzemes                   int64\n",
       "atbr_no_nodevas                 int64\n",
       "dtype: object"
      ]
     },
     "execution_count": 8,
     "metadata": {},
     "output_type": "execute_result"
    }
   ],
   "source": [
    "df.dtypes"
   ]
  },
  {
   "cell_type": "code",
   "execution_count": 9,
   "metadata": {},
   "outputs": [
    {
     "data": {
      "text/plain": [
       "Lietas ID (caseID)     0\n",
       "Tiesas ID (courtID)    0\n",
       "Tiesa                  0\n",
       "Dzimšanas datums       0\n",
       "Ienākšanas kārtība     0\n",
       "Ienākšanas datums      0\n",
       "Izskatīšanas datums    0\n",
       "Būtība                 0\n",
       "Prasījuma apmērs       9\n",
       "atb_fiz                0\n",
       "atb_jur                0\n",
       "pras_fiz               0\n",
       "pras_jur               0\n",
       "Nozīmētās sēdes        0\n",
       "Notikušās sēdes        0\n",
       "naudaS_sods            0\n",
       "dzivo_arzemes          0\n",
       "atbr_no_nodevas        0\n",
       "dtype: int64"
      ]
     },
     "execution_count": 9,
     "metadata": {},
     "output_type": "execute_result"
    }
   ],
   "source": [
    "df.isnull().sum()"
   ]
  },
  {
   "cell_type": "code",
   "execution_count": 10,
   "metadata": {
    "collapsed": true
   },
   "outputs": [],
   "source": [
    "def categorical_stats(df):\n",
    "    values_df = df.select_dtypes(include=\"object\").nunique().to_frame(name=\"unique\")\n",
    "    values_df[\"values\"] = values_df.apply(lambda item: df[item.name].unique().tolist(), axis=1)\n",
    "    return values_df"
   ]
  },
  {
   "cell_type": "code",
   "execution_count": 11,
   "metadata": {},
   "outputs": [
    {
     "data": {
      "text/html": [
       "<div>\n",
       "<style scoped>\n",
       "    .dataframe tbody tr th:only-of-type {\n",
       "        vertical-align: middle;\n",
       "    }\n",
       "\n",
       "    .dataframe tbody tr th {\n",
       "        vertical-align: top;\n",
       "    }\n",
       "\n",
       "    .dataframe thead th {\n",
       "        text-align: right;\n",
       "    }\n",
       "</style>\n",
       "<table border=\"1\" class=\"dataframe\">\n",
       "  <thead>\n",
       "    <tr style=\"text-align: right;\">\n",
       "      <th></th>\n",
       "      <th>unique</th>\n",
       "      <th>values</th>\n",
       "    </tr>\n",
       "  </thead>\n",
       "  <tbody>\n",
       "    <tr>\n",
       "      <th>Tiesas ID (courtID)</th>\n",
       "      <td>30</td>\n",
       "      <td>[40, 32, 279, 27, 25, 30, 26, 4, 5, 29, 34, 273, 19, 39, 23, 6, 16, 28, 1, 38, 10, 18, 2, 33, 8, 22, 7, 31, 37, 284]</td>\n",
       "    </tr>\n",
       "    <tr>\n",
       "      <th>Tiesa</th>\n",
       "      <td>30</td>\n",
       "      <td>[Valkas rajona tiesa, Rīgas pilsētas Vidzemes priekšpilsētas tiesa, Rīgas pilsētas Pārdaugavas tiesa, Liepājas tiesa...</td>\n",
       "    </tr>\n",
       "    <tr>\n",
       "      <th>Ienākšanas kārtība</th>\n",
       "      <td>6</td>\n",
       "      <td>[Pirmo reizi, Sakarā ar tiesu apvienošanu, Pēc piekritības no citas tiesas, Pēc lēmuma atcelšanas, CPL 32.1 panta kā...</td>\n",
       "    </tr>\n",
       "    <tr>\n",
       "      <th>Būtība</th>\n",
       "      <td>1254</td>\n",
       "      <td>[parāda piedziņa, zaudējumu piedziņa, par rokas naudas piedziņu, par parāda piedziņu, parāda piedziņa, prasības nodr...</td>\n",
       "    </tr>\n",
       "  </tbody>\n",
       "</table>\n",
       "</div>"
      ],
      "text/plain": [
       "                     unique                                                                                                                   values\n",
       "Tiesas ID (courtID)      30     [40, 32, 279, 27, 25, 30, 26, 4, 5, 29, 34, 273, 19, 39, 23, 6, 16, 28, 1, 38, 10, 18, 2, 33, 8, 22, 7, 31, 37, 284]\n",
       "Tiesa                    30  [Valkas rajona tiesa, Rīgas pilsētas Vidzemes priekšpilsētas tiesa, Rīgas pilsētas Pārdaugavas tiesa, Liepājas tiesa...\n",
       "Ienākšanas kārtība        6  [Pirmo reizi, Sakarā ar tiesu apvienošanu, Pēc piekritības no citas tiesas, Pēc lēmuma atcelšanas, CPL 32.1 panta kā...\n",
       "Būtība                 1254  [parāda piedziņa, zaudējumu piedziņa, par rokas naudas piedziņu, par parāda piedziņu, parāda piedziņa, prasības nodr..."
      ]
     },
     "execution_count": 11,
     "metadata": {},
     "output_type": "execute_result"
    }
   ],
   "source": [
    "categorical_stats(df)"
   ]
  },
  {
   "cell_type": "markdown",
   "metadata": {},
   "source": [
    "### Cleanup"
   ]
  },
  {
   "cell_type": "code",
   "execution_count": 12,
   "metadata": {},
   "outputs": [],
   "source": [
    "df.dropna(subset=[\"Prasījuma apmērs\"], inplace=True)\n",
    "df.drop(labels=[\"Tiesa\"], axis=1, inplace=True)"
   ]
  },
  {
   "cell_type": "markdown",
   "metadata": {},
   "source": [
    "### Transformations"
   ]
  },
  {
   "cell_type": "code",
   "execution_count": 13,
   "metadata": {
    "collapsed": true
   },
   "outputs": [],
   "source": [
    "df[\"Būtība\"] = df.apply(lambda item: \" \".join(item[\"Būtība\"].split()), axis=1)"
   ]
  },
  {
   "cell_type": "code",
   "execution_count": 14,
   "metadata": {},
   "outputs": [
    {
     "data": {
      "text/html": [
       "<div>\n",
       "<style scoped>\n",
       "    .dataframe tbody tr th:only-of-type {\n",
       "        vertical-align: middle;\n",
       "    }\n",
       "\n",
       "    .dataframe tbody tr th {\n",
       "        vertical-align: top;\n",
       "    }\n",
       "\n",
       "    .dataframe thead th {\n",
       "        text-align: right;\n",
       "    }\n",
       "</style>\n",
       "<table border=\"1\" class=\"dataframe\">\n",
       "  <thead>\n",
       "    <tr style=\"text-align: right;\">\n",
       "      <th></th>\n",
       "      <th>unique</th>\n",
       "      <th>values</th>\n",
       "    </tr>\n",
       "  </thead>\n",
       "  <tbody>\n",
       "    <tr>\n",
       "      <th>Tiesas ID (courtID)</th>\n",
       "      <td>30</td>\n",
       "      <td>[40, 32, 279, 27, 25, 30, 26, 4, 5, 29, 34, 273, 19, 39, 23, 6, 16, 28, 1, 38, 10, 18, 2, 33, 8, 22, 7, 31, 37, 284]</td>\n",
       "    </tr>\n",
       "    <tr>\n",
       "      <th>Ienākšanas kārtība</th>\n",
       "      <td>6</td>\n",
       "      <td>[Pirmo reizi, Sakarā ar tiesu apvienošanu, Pēc piekritības no citas tiesas, Pēc lēmuma atcelšanas, CPL 32.1 panta kā...</td>\n",
       "    </tr>\n",
       "    <tr>\n",
       "      <th>Būtība</th>\n",
       "      <td>1158</td>\n",
       "      <td>[parāda piedziņa, zaudējumu piedziņa, par rokas naudas piedziņu, par parāda piedziņu, parāda piedziņa, prasības nodr...</td>\n",
       "    </tr>\n",
       "  </tbody>\n",
       "</table>\n",
       "</div>"
      ],
      "text/plain": [
       "                     unique                                                                                                                   values\n",
       "Tiesas ID (courtID)      30     [40, 32, 279, 27, 25, 30, 26, 4, 5, 29, 34, 273, 19, 39, 23, 6, 16, 28, 1, 38, 10, 18, 2, 33, 8, 22, 7, 31, 37, 284]\n",
       "Ienākšanas kārtība        6  [Pirmo reizi, Sakarā ar tiesu apvienošanu, Pēc piekritības no citas tiesas, Pēc lēmuma atcelšanas, CPL 32.1 panta kā...\n",
       "Būtība                 1158  [parāda piedziņa, zaudējumu piedziņa, par rokas naudas piedziņu, par parāda piedziņu, parāda piedziņa, prasības nodr..."
      ]
     },
     "execution_count": 14,
     "metadata": {},
     "output_type": "execute_result"
    }
   ],
   "source": [
    "categorical_stats(df)"
   ]
  },
  {
   "cell_type": "code",
   "execution_count": null,
   "metadata": {
    "collapsed": true
   },
   "outputs": [],
   "source": []
  }
 ],
 "metadata": {
  "kernelspec": {
   "display_name": "Python 3",
   "language": "python",
   "name": "python3"
  },
  "language_info": {
   "codemirror_mode": {
    "name": "ipython",
    "version": 3
   },
   "file_extension": ".py",
   "mimetype": "text/x-python",
   "name": "python",
   "nbconvert_exporter": "python",
   "pygments_lexer": "ipython3",
   "version": "3.5.2"
  }
 },
 "nbformat": 4,
 "nbformat_minor": 2
}

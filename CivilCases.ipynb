{
 "cells": [
  {
   "cell_type": "markdown",
   "metadata": {},
   "source": [
    "# Civil cases"
   ]
  },
  {
   "cell_type": "code",
   "execution_count": 1,
   "metadata": {
    "collapsed": true
   },
   "outputs": [],
   "source": [
    "import os\n",
    "import datetime\n",
    "\n",
    "import numpy as np\n",
    "import pandas as pd\n",
    "\n",
    "from dateutil.relativedelta import relativedelta"
   ]
  },
  {
   "cell_type": "code",
   "execution_count": 2,
   "metadata": {
    "collapsed": true
   },
   "outputs": [],
   "source": [
    "pd.set_option('display.width', 250)\n",
    "pd.set_option('display.max_colwidth', 120)"
   ]
  },
  {
   "cell_type": "markdown",
   "metadata": {},
   "source": [
    "### Reading & parsing CSV"
   ]
  },
  {
   "cell_type": "code",
   "execution_count": 3,
   "metadata": {
    "collapsed": true
   },
   "outputs": [],
   "source": [
    "data_dir = \"data\"\n",
    "file_name = \"Izskatitas_C1_Kat3_2017_lietas_07.csv\"\n",
    "data_source_path = os.path.join(data_dir, file_name)"
   ]
  },
  {
   "cell_type": "code",
   "execution_count": 4,
   "metadata": {},
   "outputs": [],
   "source": [
    "df = pd.read_csv(data_source_path, \n",
    "                 parse_dates=[\"Ienākšanas datums\", \"Izskatīšanas datums\"],\n",
    "                 dtype={\"Dzimšanas datums\": str},\n",
    "                 index_col=\"Lietas ID (caseID)\")"
   ]
  },
  {
   "cell_type": "code",
   "execution_count": 5,
   "metadata": {},
   "outputs": [],
   "source": [
    "def make_float(x):\n",
    "    try:\n",
    "        return float(x)\n",
    "    except ValueError:\n",
    "        return np.nan\n",
    "\n",
    "def fix_century(x):\n",
    "    if x > datetime.datetime(2000, 1, 1):\n",
    "        return x - relativedelta(years=100)\n",
    "    else:\n",
    "        return x"
   ]
  },
  {
   "cell_type": "code",
   "execution_count": 6,
   "metadata": {},
   "outputs": [],
   "source": [
    "df[\"Prasījuma apmērs\"] = df.apply(lambda item: make_float(item[\"Prasījuma apmērs\"]), axis=1)\n",
    "\n",
    "df[\"Būtība\"] = df[\"Būtība\"].astype(str)\n",
    "df[\"Tiesas ID (courtID)\"] = df[\"Tiesas ID (courtID)\"].astype(str)\n",
    "\n",
    "df[\"Dzimšanas datums\"] = pd.to_datetime(df[\"Dzimšanas datums\"], format=\"%d%m%y\", errors=\"coerce\")\n",
    "df[\"Dzimšanas datums\"] = df.apply(lambda item: fix_century(item[\"Dzimšanas datums\"]), axis=1)"
   ]
  },
  {
   "cell_type": "markdown",
   "metadata": {},
   "source": [
    "### Overall stats"
   ]
  },
  {
   "cell_type": "code",
   "execution_count": 7,
   "metadata": {},
   "outputs": [
    {
     "data": {
      "text/plain": [
       "(16455, 17)"
      ]
     },
     "execution_count": 7,
     "metadata": {},
     "output_type": "execute_result"
    }
   ],
   "source": [
    "df.shape"
   ]
  },
  {
   "cell_type": "code",
   "execution_count": 8,
   "metadata": {},
   "outputs": [
    {
     "data": {
      "text/html": [
       "<div>\n",
       "<style scoped>\n",
       "    .dataframe tbody tr th:only-of-type {\n",
       "        vertical-align: middle;\n",
       "    }\n",
       "\n",
       "    .dataframe tbody tr th {\n",
       "        vertical-align: top;\n",
       "    }\n",
       "\n",
       "    .dataframe thead th {\n",
       "        text-align: right;\n",
       "    }\n",
       "</style>\n",
       "<table border=\"1\" class=\"dataframe\">\n",
       "  <thead>\n",
       "    <tr style=\"text-align: right;\">\n",
       "      <th></th>\n",
       "      <th>Tiesas ID (courtID)</th>\n",
       "      <th>Tiesa</th>\n",
       "      <th>Dzimšanas datums</th>\n",
       "      <th>Ienākšanas kārtība</th>\n",
       "      <th>Ienākšanas datums</th>\n",
       "      <th>Izskatīšanas datums</th>\n",
       "      <th>Būtība</th>\n",
       "      <th>Prasījuma apmērs</th>\n",
       "      <th>atb_fiz</th>\n",
       "      <th>atb_jur</th>\n",
       "      <th>pras_fiz</th>\n",
       "      <th>pras_jur</th>\n",
       "      <th>Nozīmētās sēdes</th>\n",
       "      <th>Notikušās sēdes</th>\n",
       "      <th>naudaS_sods</th>\n",
       "      <th>dzivo_arzemes</th>\n",
       "      <th>atbr_no_nodevas</th>\n",
       "    </tr>\n",
       "    <tr>\n",
       "      <th>Lietas ID (caseID)</th>\n",
       "      <th></th>\n",
       "      <th></th>\n",
       "      <th></th>\n",
       "      <th></th>\n",
       "      <th></th>\n",
       "      <th></th>\n",
       "      <th></th>\n",
       "      <th></th>\n",
       "      <th></th>\n",
       "      <th></th>\n",
       "      <th></th>\n",
       "      <th></th>\n",
       "      <th></th>\n",
       "      <th></th>\n",
       "      <th></th>\n",
       "      <th></th>\n",
       "      <th></th>\n",
       "    </tr>\n",
       "  </thead>\n",
       "  <tbody>\n",
       "    <tr>\n",
       "      <th>213477</th>\n",
       "      <td>40</td>\n",
       "      <td>Valkas rajona tiesa</td>\n",
       "      <td>1959-01-06</td>\n",
       "      <td>Pirmo reizi</td>\n",
       "      <td>2003-06-05</td>\n",
       "      <td>2017-01-23</td>\n",
       "      <td>parāda piedziņa</td>\n",
       "      <td>0.00</td>\n",
       "      <td>0</td>\n",
       "      <td>1</td>\n",
       "      <td>0</td>\n",
       "      <td>1</td>\n",
       "      <td>3</td>\n",
       "      <td>0</td>\n",
       "      <td>0</td>\n",
       "      <td>1</td>\n",
       "      <td>0</td>\n",
       "    </tr>\n",
       "    <tr>\n",
       "      <th>448971</th>\n",
       "      <td>32</td>\n",
       "      <td>Rīgas pilsētas Vidzemes priekšpilsētas tiesa</td>\n",
       "      <td>1967-07-05</td>\n",
       "      <td>Pirmo reizi</td>\n",
       "      <td>2005-11-29</td>\n",
       "      <td>2017-04-06</td>\n",
       "      <td>zaudējumu piedziņa</td>\n",
       "      <td>0.00</td>\n",
       "      <td>1</td>\n",
       "      <td>0</td>\n",
       "      <td>1</td>\n",
       "      <td>0</td>\n",
       "      <td>9</td>\n",
       "      <td>1</td>\n",
       "      <td>0</td>\n",
       "      <td>0</td>\n",
       "      <td>1</td>\n",
       "    </tr>\n",
       "    <tr>\n",
       "      <th>477470</th>\n",
       "      <td>279</td>\n",
       "      <td>Rīgas pilsētas Pārdaugavas tiesa</td>\n",
       "      <td>1951-05-01</td>\n",
       "      <td>Sakarā ar tiesu apvienošanu</td>\n",
       "      <td>2017-01-31</td>\n",
       "      <td>2017-10-02</td>\n",
       "      <td>parāda piedziņa</td>\n",
       "      <td>21414.34</td>\n",
       "      <td>2</td>\n",
       "      <td>0</td>\n",
       "      <td>1</td>\n",
       "      <td>0</td>\n",
       "      <td>5</td>\n",
       "      <td>3</td>\n",
       "      <td>0</td>\n",
       "      <td>0</td>\n",
       "      <td>0</td>\n",
       "    </tr>\n",
       "    <tr>\n",
       "      <th>575613</th>\n",
       "      <td>27</td>\n",
       "      <td>Liepājas tiesa</td>\n",
       "      <td>1963-04-03</td>\n",
       "      <td>Pirmo reizi</td>\n",
       "      <td>2007-06-04</td>\n",
       "      <td>2017-10-26</td>\n",
       "      <td>zaudējumu piedziņa</td>\n",
       "      <td>916.25</td>\n",
       "      <td>6</td>\n",
       "      <td>0</td>\n",
       "      <td>2</td>\n",
       "      <td>0</td>\n",
       "      <td>4</td>\n",
       "      <td>0</td>\n",
       "      <td>0</td>\n",
       "      <td>0</td>\n",
       "      <td>0</td>\n",
       "    </tr>\n",
       "    <tr>\n",
       "      <th>580131</th>\n",
       "      <td>32</td>\n",
       "      <td>Rīgas pilsētas Vidzemes priekšpilsētas tiesa</td>\n",
       "      <td>1974-01-25</td>\n",
       "      <td>Pēc piekritības no citas tiesas</td>\n",
       "      <td>2015-10-07</td>\n",
       "      <td>2017-11-13</td>\n",
       "      <td>parāda piedziņa</td>\n",
       "      <td>1588192.95</td>\n",
       "      <td>4</td>\n",
       "      <td>0</td>\n",
       "      <td>1</td>\n",
       "      <td>0</td>\n",
       "      <td>8</td>\n",
       "      <td>1</td>\n",
       "      <td>0</td>\n",
       "      <td>0</td>\n",
       "      <td>0</td>\n",
       "    </tr>\n",
       "  </tbody>\n",
       "</table>\n",
       "</div>"
      ],
      "text/plain": [
       "                   Tiesas ID (courtID)                                         Tiesa Dzimšanas datums               Ienākšanas kārtība Ienākšanas datums Izskatīšanas datums              Būtība  Prasījuma apmērs  atb_fiz  atb_jur  pras_fiz  \\\n",
       "Lietas ID (caseID)                                                                                                                                                                                                                               \n",
       "213477                              40                           Valkas rajona tiesa       1959-01-06                      Pirmo reizi        2003-06-05          2017-01-23     parāda piedziņa              0.00        0        1         0   \n",
       "448971                              32  Rīgas pilsētas Vidzemes priekšpilsētas tiesa       1967-07-05                      Pirmo reizi        2005-11-29          2017-04-06  zaudējumu piedziņa              0.00        1        0         1   \n",
       "477470                             279              Rīgas pilsētas Pārdaugavas tiesa       1951-05-01      Sakarā ar tiesu apvienošanu        2017-01-31          2017-10-02     parāda piedziņa          21414.34        2        0         1   \n",
       "575613                              27                                Liepājas tiesa       1963-04-03                      Pirmo reizi        2007-06-04          2017-10-26  zaudējumu piedziņa            916.25        6        0         2   \n",
       "580131                              32  Rīgas pilsētas Vidzemes priekšpilsētas tiesa       1974-01-25  Pēc piekritības no citas tiesas        2015-10-07          2017-11-13     parāda piedziņa        1588192.95        4        0         1   \n",
       "\n",
       "                    pras_jur  Nozīmētās sēdes  Notikušās sēdes  naudaS_sods  dzivo_arzemes  atbr_no_nodevas  \n",
       "Lietas ID (caseID)                                                                                           \n",
       "213477                     1                3                0            0              1                0  \n",
       "448971                     0                9                1            0              0                1  \n",
       "477470                     0                5                3            0              0                0  \n",
       "575613                     0                4                0            0              0                0  \n",
       "580131                     0                8                1            0              0                0  "
      ]
     },
     "execution_count": 8,
     "metadata": {},
     "output_type": "execute_result"
    }
   ],
   "source": [
    "df.head()"
   ]
  },
  {
   "cell_type": "code",
   "execution_count": 9,
   "metadata": {},
   "outputs": [
    {
     "data": {
      "text/plain": [
       "Tiesas ID (courtID)            object\n",
       "Tiesa                          object\n",
       "Dzimšanas datums       datetime64[ns]\n",
       "Ienākšanas kārtība             object\n",
       "Ienākšanas datums      datetime64[ns]\n",
       "Izskatīšanas datums    datetime64[ns]\n",
       "Būtība                         object\n",
       "Prasījuma apmērs              float64\n",
       "atb_fiz                         int64\n",
       "atb_jur                         int64\n",
       "pras_fiz                        int64\n",
       "pras_jur                        int64\n",
       "Nozīmētās sēdes                 int64\n",
       "Notikušās sēdes                 int64\n",
       "naudaS_sods                     int64\n",
       "dzivo_arzemes                   int64\n",
       "atbr_no_nodevas                 int64\n",
       "dtype: object"
      ]
     },
     "execution_count": 9,
     "metadata": {},
     "output_type": "execute_result"
    }
   ],
   "source": [
    "df.dtypes"
   ]
  },
  {
   "cell_type": "code",
   "execution_count": 10,
   "metadata": {},
   "outputs": [
    {
     "data": {
      "text/plain": [
       "Tiesas ID (courtID)    0\n",
       "Tiesa                  0\n",
       "Dzimšanas datums       0\n",
       "Ienākšanas kārtība     0\n",
       "Ienākšanas datums      0\n",
       "Izskatīšanas datums    0\n",
       "Būtība                 0\n",
       "Prasījuma apmērs       9\n",
       "atb_fiz                0\n",
       "atb_jur                0\n",
       "pras_fiz               0\n",
       "pras_jur               0\n",
       "Nozīmētās sēdes        0\n",
       "Notikušās sēdes        0\n",
       "naudaS_sods            0\n",
       "dzivo_arzemes          0\n",
       "atbr_no_nodevas        0\n",
       "dtype: int64"
      ]
     },
     "execution_count": 10,
     "metadata": {},
     "output_type": "execute_result"
    }
   ],
   "source": [
    "df.isnull().sum()"
   ]
  },
  {
   "cell_type": "code",
   "execution_count": 11,
   "metadata": {
    "collapsed": true
   },
   "outputs": [],
   "source": [
    "def categorical_stats(df):\n",
    "    values_df = df.select_dtypes(include=\"object\").nunique().to_frame(name=\"unique\")\n",
    "    values_df[\"values\"] = values_df.apply(lambda item: df[item.name].unique().tolist(), axis=1)\n",
    "    return values_df"
   ]
  },
  {
   "cell_type": "code",
   "execution_count": 12,
   "metadata": {},
   "outputs": [
    {
     "data": {
      "text/html": [
       "<div>\n",
       "<style scoped>\n",
       "    .dataframe tbody tr th:only-of-type {\n",
       "        vertical-align: middle;\n",
       "    }\n",
       "\n",
       "    .dataframe tbody tr th {\n",
       "        vertical-align: top;\n",
       "    }\n",
       "\n",
       "    .dataframe thead th {\n",
       "        text-align: right;\n",
       "    }\n",
       "</style>\n",
       "<table border=\"1\" class=\"dataframe\">\n",
       "  <thead>\n",
       "    <tr style=\"text-align: right;\">\n",
       "      <th></th>\n",
       "      <th>unique</th>\n",
       "      <th>values</th>\n",
       "    </tr>\n",
       "  </thead>\n",
       "  <tbody>\n",
       "    <tr>\n",
       "      <th>Tiesas ID (courtID)</th>\n",
       "      <td>30</td>\n",
       "      <td>[40, 32, 279, 27, 25, 30, 26, 4, 5, 29, 34, 273, 19, 39, 23, 6, 16, 28, 1, 38, 10, 18, 2, 33, 8, 22, 7, 31, 37, 284]</td>\n",
       "    </tr>\n",
       "    <tr>\n",
       "      <th>Tiesa</th>\n",
       "      <td>30</td>\n",
       "      <td>[Valkas rajona tiesa, Rīgas pilsētas Vidzemes priekšpilsētas tiesa, Rīgas pilsētas Pārdaugavas tiesa, Liepājas tiesa...</td>\n",
       "    </tr>\n",
       "    <tr>\n",
       "      <th>Ienākšanas kārtība</th>\n",
       "      <td>6</td>\n",
       "      <td>[Pirmo reizi, Sakarā ar tiesu apvienošanu, Pēc piekritības no citas tiesas, Pēc lēmuma atcelšanas, CPL 32.1 panta kā...</td>\n",
       "    </tr>\n",
       "    <tr>\n",
       "      <th>Būtība</th>\n",
       "      <td>1254</td>\n",
       "      <td>[parāda piedziņa, zaudējumu piedziņa, par rokas naudas piedziņu, par parāda piedziņu, parāda piedziņa, prasības nodr...</td>\n",
       "    </tr>\n",
       "  </tbody>\n",
       "</table>\n",
       "</div>"
      ],
      "text/plain": [
       "                     unique                                                                                                                   values\n",
       "Tiesas ID (courtID)      30     [40, 32, 279, 27, 25, 30, 26, 4, 5, 29, 34, 273, 19, 39, 23, 6, 16, 28, 1, 38, 10, 18, 2, 33, 8, 22, 7, 31, 37, 284]\n",
       "Tiesa                    30  [Valkas rajona tiesa, Rīgas pilsētas Vidzemes priekšpilsētas tiesa, Rīgas pilsētas Pārdaugavas tiesa, Liepājas tiesa...\n",
       "Ienākšanas kārtība        6  [Pirmo reizi, Sakarā ar tiesu apvienošanu, Pēc piekritības no citas tiesas, Pēc lēmuma atcelšanas, CPL 32.1 panta kā...\n",
       "Būtība                 1254  [parāda piedziņa, zaudējumu piedziņa, par rokas naudas piedziņu, par parāda piedziņu, parāda piedziņa, prasības nodr..."
      ]
     },
     "execution_count": 12,
     "metadata": {},
     "output_type": "execute_result"
    }
   ],
   "source": [
    "categorical_stats(df)"
   ]
  },
  {
   "cell_type": "markdown",
   "metadata": {},
   "source": [
    "### Cleanup"
   ]
  },
  {
   "cell_type": "code",
   "execution_count": 13,
   "metadata": {},
   "outputs": [],
   "source": [
    "df.dropna(subset=[\"Prasījuma apmērs\"], inplace=True)\n",
    "df.drop(labels=[\"Tiesa\"], axis=1, inplace=True)"
   ]
  },
  {
   "cell_type": "markdown",
   "metadata": {},
   "source": [
    "### Transformations"
   ]
  },
  {
   "cell_type": "code",
   "execution_count": 14,
   "metadata": {
    "collapsed": true
   },
   "outputs": [],
   "source": [
    "df[\"Būtība\"] = df.apply(lambda item: \" \".join(item[\"Būtība\"].split()), axis=1)"
   ]
  },
  {
   "cell_type": "code",
   "execution_count": 15,
   "metadata": {},
   "outputs": [
    {
     "data": {
      "text/html": [
       "<div>\n",
       "<style scoped>\n",
       "    .dataframe tbody tr th:only-of-type {\n",
       "        vertical-align: middle;\n",
       "    }\n",
       "\n",
       "    .dataframe tbody tr th {\n",
       "        vertical-align: top;\n",
       "    }\n",
       "\n",
       "    .dataframe thead th {\n",
       "        text-align: right;\n",
       "    }\n",
       "</style>\n",
       "<table border=\"1\" class=\"dataframe\">\n",
       "  <thead>\n",
       "    <tr style=\"text-align: right;\">\n",
       "      <th></th>\n",
       "      <th>unique</th>\n",
       "      <th>values</th>\n",
       "    </tr>\n",
       "  </thead>\n",
       "  <tbody>\n",
       "    <tr>\n",
       "      <th>Tiesas ID (courtID)</th>\n",
       "      <td>30</td>\n",
       "      <td>[40, 32, 279, 27, 25, 30, 26, 4, 5, 29, 34, 273, 19, 39, 23, 6, 16, 28, 1, 38, 10, 18, 2, 33, 8, 22, 7, 31, 37, 284]</td>\n",
       "    </tr>\n",
       "    <tr>\n",
       "      <th>Ienākšanas kārtība</th>\n",
       "      <td>6</td>\n",
       "      <td>[Pirmo reizi, Sakarā ar tiesu apvienošanu, Pēc piekritības no citas tiesas, Pēc lēmuma atcelšanas, CPL 32.1 panta kā...</td>\n",
       "    </tr>\n",
       "    <tr>\n",
       "      <th>Būtība</th>\n",
       "      <td>1158</td>\n",
       "      <td>[parāda piedziņa, zaudējumu piedziņa, par rokas naudas piedziņu, par parāda piedziņu, parāda piedziņa, prasības nodr...</td>\n",
       "    </tr>\n",
       "  </tbody>\n",
       "</table>\n",
       "</div>"
      ],
      "text/plain": [
       "                     unique                                                                                                                   values\n",
       "Tiesas ID (courtID)      30     [40, 32, 279, 27, 25, 30, 26, 4, 5, 29, 34, 273, 19, 39, 23, 6, 16, 28, 1, 38, 10, 18, 2, 33, 8, 22, 7, 31, 37, 284]\n",
       "Ienākšanas kārtība        6  [Pirmo reizi, Sakarā ar tiesu apvienošanu, Pēc piekritības no citas tiesas, Pēc lēmuma atcelšanas, CPL 32.1 panta kā...\n",
       "Būtība                 1158  [parāda piedziņa, zaudējumu piedziņa, par rokas naudas piedziņu, par parāda piedziņu, parāda piedziņa, prasības nodr..."
      ]
     },
     "execution_count": 15,
     "metadata": {},
     "output_type": "execute_result"
    }
   ],
   "source": [
    "categorical_stats(df)"
   ]
  },
  {
   "cell_type": "code",
   "execution_count": 16,
   "metadata": {},
   "outputs": [],
   "source": [
    "df.rename({\"atbr_no_nodevas\": \"atbr_no_nodevas_known\"}, axis=1, inplace=True)"
   ]
  },
  {
   "cell_type": "code",
   "execution_count": 17,
   "metadata": {},
   "outputs": [],
   "source": [
    "df[\"age\"] = df.apply(lambda item: relativedelta(item[\"Ienākšanas datums\"], item[\"Dzimšanas datums\"]).years, axis=1)\n",
    "df.drop(labels=[\"Dzimšanas datums\"], axis=1, inplace=True)"
   ]
  },
  {
   "cell_type": "code",
   "execution_count": 18,
   "metadata": {},
   "outputs": [],
   "source": [
    "df[\"creation_y\"] = df.apply(lambda item: item[\"Ienākšanas datums\"].year, axis=1)\n",
    "df[\"creation_m\"] = df.apply(lambda item: item[\"Ienākšanas datums\"].month, axis=1)\n",
    "df[\"creation_d\"] = df.apply(lambda item: item[\"Ienākšanas datums\"].day, axis=1)\n",
    "\n",
    "df[\"review_y\"] = df.apply(lambda item: item[\"Izskatīšanas datums\"].year, axis=1)\n",
    "df[\"review_m\"] = df.apply(lambda item: item[\"Izskatīšanas datums\"].month, axis=1)\n",
    "df[\"review_d\"] = df.apply(lambda item: item[\"Izskatīšanas datums\"].day, axis=1)"
   ]
  },
  {
   "cell_type": "code",
   "execution_count": 19,
   "metadata": {
    "collapsed": true
   },
   "outputs": [],
   "source": [
    "def difference_in_days(d1, d2):\n",
    "    rd = relativedelta(d1, d2)\n",
    "    now = datetime.datetime.now()\n",
    "    then = now - rd\n",
    "    diff = now - then\n",
    "    return diff.days"
   ]
  },
  {
   "cell_type": "code",
   "execution_count": 20,
   "metadata": {
    "collapsed": true
   },
   "outputs": [],
   "source": [
    "df[\"case_lifetime_days\"] = df.apply(\n",
    "    lambda item: difference_in_days(item[\"Izskatīšanas datums\"], item[\"Ienākšanas datums\"]), axis=1)"
   ]
  },
  {
   "cell_type": "code",
   "execution_count": 21,
   "metadata": {
    "collapsed": true
   },
   "outputs": [],
   "source": [
    "df.drop(labels=[\"Ienākšanas datums\", \"Izskatīšanas datums\"], axis=1, inplace=True)"
   ]
  },
  {
   "cell_type": "code",
   "execution_count": 22,
   "metadata": {},
   "outputs": [
    {
     "data": {
      "text/html": [
       "<div>\n",
       "<style scoped>\n",
       "    .dataframe tbody tr th:only-of-type {\n",
       "        vertical-align: middle;\n",
       "    }\n",
       "\n",
       "    .dataframe tbody tr th {\n",
       "        vertical-align: top;\n",
       "    }\n",
       "\n",
       "    .dataframe thead th {\n",
       "        text-align: right;\n",
       "    }\n",
       "</style>\n",
       "<table border=\"1\" class=\"dataframe\">\n",
       "  <thead>\n",
       "    <tr style=\"text-align: right;\">\n",
       "      <th></th>\n",
       "      <th>Tiesas ID (courtID)</th>\n",
       "      <th>Ienākšanas kārtība</th>\n",
       "      <th>Būtība</th>\n",
       "      <th>Prasījuma apmērs</th>\n",
       "      <th>atb_fiz</th>\n",
       "      <th>atb_jur</th>\n",
       "      <th>pras_fiz</th>\n",
       "      <th>pras_jur</th>\n",
       "      <th>Nozīmētās sēdes</th>\n",
       "      <th>Notikušās sēdes</th>\n",
       "      <th>...</th>\n",
       "      <th>dzivo_arzemes</th>\n",
       "      <th>atbr_no_nodevas_known</th>\n",
       "      <th>age</th>\n",
       "      <th>creation_y</th>\n",
       "      <th>creation_m</th>\n",
       "      <th>creation_d</th>\n",
       "      <th>review_y</th>\n",
       "      <th>review_m</th>\n",
       "      <th>review_d</th>\n",
       "      <th>case_lifetime_days</th>\n",
       "    </tr>\n",
       "    <tr>\n",
       "      <th>Lietas ID (caseID)</th>\n",
       "      <th></th>\n",
       "      <th></th>\n",
       "      <th></th>\n",
       "      <th></th>\n",
       "      <th></th>\n",
       "      <th></th>\n",
       "      <th></th>\n",
       "      <th></th>\n",
       "      <th></th>\n",
       "      <th></th>\n",
       "      <th></th>\n",
       "      <th></th>\n",
       "      <th></th>\n",
       "      <th></th>\n",
       "      <th></th>\n",
       "      <th></th>\n",
       "      <th></th>\n",
       "      <th></th>\n",
       "      <th></th>\n",
       "      <th></th>\n",
       "      <th></th>\n",
       "    </tr>\n",
       "  </thead>\n",
       "  <tbody>\n",
       "    <tr>\n",
       "      <th>213477</th>\n",
       "      <td>40</td>\n",
       "      <td>Pirmo reizi</td>\n",
       "      <td>parāda piedziņa</td>\n",
       "      <td>0.00</td>\n",
       "      <td>0</td>\n",
       "      <td>1</td>\n",
       "      <td>0</td>\n",
       "      <td>1</td>\n",
       "      <td>3</td>\n",
       "      <td>0</td>\n",
       "      <td>...</td>\n",
       "      <td>1</td>\n",
       "      <td>0</td>\n",
       "      <td>44</td>\n",
       "      <td>2003</td>\n",
       "      <td>6</td>\n",
       "      <td>5</td>\n",
       "      <td>2017</td>\n",
       "      <td>1</td>\n",
       "      <td>23</td>\n",
       "      <td>4978</td>\n",
       "    </tr>\n",
       "    <tr>\n",
       "      <th>448971</th>\n",
       "      <td>32</td>\n",
       "      <td>Pirmo reizi</td>\n",
       "      <td>zaudējumu piedziņa</td>\n",
       "      <td>0.00</td>\n",
       "      <td>1</td>\n",
       "      <td>0</td>\n",
       "      <td>1</td>\n",
       "      <td>0</td>\n",
       "      <td>9</td>\n",
       "      <td>1</td>\n",
       "      <td>...</td>\n",
       "      <td>0</td>\n",
       "      <td>1</td>\n",
       "      <td>38</td>\n",
       "      <td>2005</td>\n",
       "      <td>11</td>\n",
       "      <td>29</td>\n",
       "      <td>2017</td>\n",
       "      <td>4</td>\n",
       "      <td>6</td>\n",
       "      <td>4146</td>\n",
       "    </tr>\n",
       "    <tr>\n",
       "      <th>477470</th>\n",
       "      <td>279</td>\n",
       "      <td>Sakarā ar tiesu apvienošanu</td>\n",
       "      <td>parāda piedziņa</td>\n",
       "      <td>21414.34</td>\n",
       "      <td>2</td>\n",
       "      <td>0</td>\n",
       "      <td>1</td>\n",
       "      <td>0</td>\n",
       "      <td>5</td>\n",
       "      <td>3</td>\n",
       "      <td>...</td>\n",
       "      <td>0</td>\n",
       "      <td>0</td>\n",
       "      <td>65</td>\n",
       "      <td>2017</td>\n",
       "      <td>1</td>\n",
       "      <td>31</td>\n",
       "      <td>2017</td>\n",
       "      <td>10</td>\n",
       "      <td>2</td>\n",
       "      <td>245</td>\n",
       "    </tr>\n",
       "    <tr>\n",
       "      <th>575613</th>\n",
       "      <td>27</td>\n",
       "      <td>Pirmo reizi</td>\n",
       "      <td>zaudējumu piedziņa</td>\n",
       "      <td>916.25</td>\n",
       "      <td>6</td>\n",
       "      <td>0</td>\n",
       "      <td>2</td>\n",
       "      <td>0</td>\n",
       "      <td>4</td>\n",
       "      <td>0</td>\n",
       "      <td>...</td>\n",
       "      <td>0</td>\n",
       "      <td>0</td>\n",
       "      <td>44</td>\n",
       "      <td>2007</td>\n",
       "      <td>6</td>\n",
       "      <td>4</td>\n",
       "      <td>2017</td>\n",
       "      <td>10</td>\n",
       "      <td>26</td>\n",
       "      <td>3795</td>\n",
       "    </tr>\n",
       "    <tr>\n",
       "      <th>580131</th>\n",
       "      <td>32</td>\n",
       "      <td>Pēc piekritības no citas tiesas</td>\n",
       "      <td>parāda piedziņa</td>\n",
       "      <td>1588192.95</td>\n",
       "      <td>4</td>\n",
       "      <td>0</td>\n",
       "      <td>1</td>\n",
       "      <td>0</td>\n",
       "      <td>8</td>\n",
       "      <td>1</td>\n",
       "      <td>...</td>\n",
       "      <td>0</td>\n",
       "      <td>0</td>\n",
       "      <td>41</td>\n",
       "      <td>2015</td>\n",
       "      <td>10</td>\n",
       "      <td>7</td>\n",
       "      <td>2017</td>\n",
       "      <td>11</td>\n",
       "      <td>13</td>\n",
       "      <td>767</td>\n",
       "    </tr>\n",
       "  </tbody>\n",
       "</table>\n",
       "<p>5 rows × 21 columns</p>\n",
       "</div>"
      ],
      "text/plain": [
       "                   Tiesas ID (courtID)               Ienākšanas kārtība              Būtība  Prasījuma apmērs  atb_fiz  atb_jur  pras_fiz  pras_jur  Nozīmētās sēdes  Notikušās sēdes         ...          dzivo_arzemes  atbr_no_nodevas_known  age  \\\n",
       "Lietas ID (caseID)                                                                                                                                                                            ...                                                      \n",
       "213477                              40                      Pirmo reizi     parāda piedziņa              0.00        0        1         0         1                3                0         ...                      1                      0   44   \n",
       "448971                              32                      Pirmo reizi  zaudējumu piedziņa              0.00        1        0         1         0                9                1         ...                      0                      1   38   \n",
       "477470                             279      Sakarā ar tiesu apvienošanu     parāda piedziņa          21414.34        2        0         1         0                5                3         ...                      0                      0   65   \n",
       "575613                              27                      Pirmo reizi  zaudējumu piedziņa            916.25        6        0         2         0                4                0         ...                      0                      0   44   \n",
       "580131                              32  Pēc piekritības no citas tiesas     parāda piedziņa        1588192.95        4        0         1         0                8                1         ...                      0                      0   41   \n",
       "\n",
       "                    creation_y  creation_m  creation_d  review_y  review_m  review_d  case_lifetime_days  \n",
       "Lietas ID (caseID)                                                                                        \n",
       "213477                    2003           6           5      2017         1        23                4978  \n",
       "448971                    2005          11          29      2017         4         6                4146  \n",
       "477470                    2017           1          31      2017        10         2                 245  \n",
       "575613                    2007           6           4      2017        10        26                3795  \n",
       "580131                    2015          10           7      2017        11        13                 767  \n",
       "\n",
       "[5 rows x 21 columns]"
      ]
     },
     "execution_count": 22,
     "metadata": {},
     "output_type": "execute_result"
    }
   ],
   "source": [
    "df.head()"
   ]
  },
  {
   "cell_type": "code",
   "execution_count": null,
   "metadata": {
    "collapsed": true
   },
   "outputs": [],
   "source": []
  }
 ],
 "metadata": {
  "kernelspec": {
   "display_name": "Python 3",
   "language": "python",
   "name": "python3"
  },
  "language_info": {
   "codemirror_mode": {
    "name": "ipython",
    "version": 3
   },
   "file_extension": ".py",
   "mimetype": "text/x-python",
   "name": "python",
   "nbconvert_exporter": "python",
   "pygments_lexer": "ipython3",
   "version": "3.5.2"
  }
 },
 "nbformat": 4,
 "nbformat_minor": 2
}
